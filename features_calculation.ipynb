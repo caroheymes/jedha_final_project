{
  "nbformat": 4,
  "nbformat_minor": 0,
  "metadata": {
    "colab": {
      "name": "features_calculation.ipynb",
      "provenance": [],
      "collapsed_sections": [],
      "machine_shape": "hm",
      "authorship_tag": "ABX9TyP4ZYznKbkGWFNiW3vMQ5HI",
      "include_colab_link": true
    },
    "kernelspec": {
      "display_name": "Python 3",
      "name": "python3"
    },
    "language_info": {
      "name": "python"
    }
  },
  "cells": [
    {
      "cell_type": "markdown",
      "metadata": {
        "id": "view-in-github",
        "colab_type": "text"
      },
      "source": [
        "<a href=\"https://colab.research.google.com/github/caroheymes/jedha_final_project/blob/master/features_calculation.ipynb\" target=\"_parent\"><img src=\"https://colab.research.google.com/assets/colab-badge.svg\" alt=\"Open In Colab\"/></a>"
      ]
    },
    {
      "cell_type": "markdown",
      "metadata": {
        "id": "E5uYpcdTFjYk"
      },
      "source": [
        "# Load Packages"
      ]
    },
    {
      "cell_type": "code",
      "metadata": {
        "id": "VbHLxHieE8jQ"
      },
      "source": [
        "!pip install spacy -q\n",
        "!python -m spacy download fr_core_news_sm -q\n",
        "!pip install unidecode\n",
        "!pip install unidecode\n",
        "!pip install wordcloud -q\n",
        "!pip install stylecloud\n",
        "!pip install matplotlib==3.4\n",
        "!pip install random2\n"
      ],
      "execution_count": null,
      "outputs": []
    },
    {
      "cell_type": "code",
      "metadata": {
        "colab": {
          "base_uri": "https://localhost:8080/"
        },
        "id": "9qhurQwFFTD-",
        "outputId": "0633c4d2-54de-4114-e42b-eb606c121202"
      },
      "source": [
        "\n",
        "import os\n",
        "from google.colab import drive\n",
        "drive.mount('/content/drive/', force_remount=True)\n",
        "\n",
        "import fr_core_news_sm\n",
        "import string\n",
        "import unidecode\n",
        "from unidecode import unidecode\n",
        "import re\n",
        "import pandas as pd\n",
        "import json\n",
        "from fnmatch import fnmatch\n",
        "import random\n",
        "\n",
        "# Import matplotlib and wordcloud \n",
        "import chardet\n",
        "import spacy\n",
        "import fr_core_news_sm\n",
        "import numpy as np\n",
        "from PIL import Image\n",
        "import matplotlib.pyplot as plt\n",
        "import wordcloud\n",
        "from spacy.lang.fr.stop_words import STOP_WORDS\n",
        "import numpy as np\n",
        "from PIL import Image\n",
        "from collections import Counter\n",
        "\n",
        "\n",
        "import warnings; warnings.filterwarnings(action='ignore')\n",
        "import time\n",
        "\n",
        "\n",
        "import seaborn as sns\n",
        "%matplotlib inline\n",
        "large = 18; med = 14; small = 11\n",
        "params = {'axes.titlesize': large,\n",
        "          'legend.fontsize': small,\n",
        "          'figure.figsize': (16, 8),\n",
        "          'axes.labelsize': small,\n",
        "          'axes.titlesize': small,\n",
        "          'xtick.labelsize': small,\n",
        "          'ytick.labelsize': small,\n",
        "          'figure.titlesize': med}\n",
        "plt.rcParams.update(params)\n",
        "plt.style.use('seaborn-whitegrid')\n",
        "sns.set_style(\"white\")"
      ],
      "execution_count": 2,
      "outputs": [
        {
          "output_type": "stream",
          "name": "stdout",
          "text": [
            "Mounted at /content/drive/\n"
          ]
        }
      ]
    },
    {
      "cell_type": "markdown",
      "metadata": {
        "id": "NGcnwneZFu2F"
      },
      "source": [
        "# Load keyword files"
      ]
    },
    {
      "cell_type": "markdown",
      "metadata": {
        "id": "3lCB3ThDFzhA"
      },
      "source": [
        "All keywords have been exported from Google Ads and already cleaned"
      ]
    },
    {
      "cell_type": "code",
      "metadata": {
        "colab": {
          "base_uri": "https://localhost:8080/"
        },
        "id": "Q4hJGUAL_o5i",
        "outputId": "20d4d1fd-2aae-4e80-9193-f1aabfb11014"
      },
      "source": [
        "#Loading kewywords\n",
        "kw = pd.read_csv('/content/drive/MyDrive/111_goldfinger/data_collection/results/correct_keywords.csv')\n",
        "kw['kw_len'] = [len(x.split(' ')) for x in kw.keyword]\n",
        "kw = kw.sort_values(by='kw_len', ascending=False)[['keyword', 'volume']].values\n",
        "kw[1:5]"
      ],
      "execution_count": 3,
      "outputs": [
        {
          "output_type": "execute_result",
          "data": {
            "text/plain": [
              "array([['recherche emploi auxiliaire de vie en maison de retraite',\n",
              "        500.0],\n",
              "       ['technicienne en service de garde en milieu scolaire emploi',\n",
              "        50.0],\n",
              "       ['conducteur accompagnateur de personnes à mobilité réduite pôle emploi',\n",
              "        50.0],\n",
              "       ['recrutement executif chef de cuisine hôtellerie de luxe', 500.0]],\n",
              "      dtype=object)"
            ]
          },
          "metadata": {},
          "execution_count": 3
        }
      ]
    },
    {
      "cell_type": "markdown",
      "metadata": {
        "id": "PfoQZgFuAolL"
      },
      "source": [
        "# Load positions and urls from 0 to 100"
      ]
    },
    {
      "cell_type": "code",
      "metadata": {
        "id": "RDcdF7tjMRdU"
      },
      "source": [
        "from fnmatch import fnmatch\n",
        "#list files related to serp data ins \"liste\"\n",
        "root = '/content/drive/MyDrive/111_goldfinger/data_collection'\n",
        "pattern = \"*serp*\"\n",
        "i=0\n",
        "liste = []\n",
        "for path, subdirs, files in os.walk(root):\n",
        "    for name in files:\n",
        "        if fnmatch(name, pattern):\n",
        "            liste.append(name)\n",
        "            i+=1\n",
        "liste.append('last.csv')"
      ],
      "execution_count": 5,
      "outputs": []
    },
    {
      "cell_type": "code",
      "metadata": {
        "colab": {
          "base_uri": "https://localhost:8080/"
        },
        "id": "qDUR8DD6OHya",
        "outputId": "9c994a05-76c5-4f24-92df-e916125804e5"
      },
      "source": [
        "liste"
      ],
      "execution_count": 6,
      "outputs": [
        {
          "output_type": "execute_result",
          "data": {
            "text/plain": [
              "['serp.csv',\n",
              " 'serp1.csv',\n",
              " 'serp2.csv',\n",
              " 'serp3.csv',\n",
              " '20_serp1.csv',\n",
              " '20_serp3.csv',\n",
              " '20_serp2.csv',\n",
              " 'last.csv']"
            ]
          },
          "metadata": {},
          "execution_count": 6
        }
      ]
    },
    {
      "cell_type": "code",
      "metadata": {
        "id": "OUlLQguVNFa9"
      },
      "source": [
        "os.chdir('/content/drive/MyDrive/111_goldfinger/data_collection')\n",
        "df = pd.DataFrame()\n",
        "for e in liste:\n",
        "  df = pd.concat([df, pd.read_csv(e)], axis=0)"
      ],
      "execution_count": 7,
      "outputs": []
    },
    {
      "cell_type": "code",
      "metadata": {
        "colab": {
          "base_uri": "https://localhost:8080/"
        },
        "id": "rrIQQH16P8cv",
        "outputId": "a9f2bb61-2a8f-4170-8366-841c999e0a97"
      },
      "source": [
        "print(df.shape)"
      ],
      "execution_count": null,
      "outputs": [
        {
          "name": "stdout",
          "output_type": "stream",
          "text": [
            "(116675, 1541)\n"
          ]
        }
      ]
    },
    {
      "cell_type": "code",
      "metadata": {
        "colab": {
          "base_uri": "https://localhost:8080/",
          "height": 280
        },
        "id": "DML38AkPQYN2",
        "outputId": "425566c3-b93e-4638-b139-648b7551fa8e"
      },
      "source": [
        "df.sample()"
      ],
      "execution_count": 8,
      "outputs": [
        {
          "output_type": "execute_result",
          "data": {
            "text/html": [
              "<div>\n",
              "<style scoped>\n",
              "    .dataframe tbody tr th:only-of-type {\n",
              "        vertical-align: middle;\n",
              "    }\n",
              "\n",
              "    .dataframe tbody tr th {\n",
              "        vertical-align: top;\n",
              "    }\n",
              "\n",
              "    .dataframe thead th {\n",
              "        text-align: right;\n",
              "    }\n",
              "</style>\n",
              "<table border=\"1\" class=\"dataframe\">\n",
              "  <thead>\n",
              "    <tr style=\"text-align: right;\">\n",
              "      <th></th>\n",
              "      <th>Unnamed: 0</th>\n",
              "      <th>gl</th>\n",
              "      <th>start</th>\n",
              "      <th>searchTerms</th>\n",
              "      <th>rank</th>\n",
              "      <th>title</th>\n",
              "      <th>snippet</th>\n",
              "      <th>displayLink</th>\n",
              "      <th>link</th>\n",
              "      <th>queryTime</th>\n",
              "      <th>totalResults</th>\n",
              "      <th>cacheId</th>\n",
              "      <th>count</th>\n",
              "      <th>cseName</th>\n",
              "      <th>cx</th>\n",
              "      <th>formattedSearchTime</th>\n",
              "      <th>formattedTotalResults</th>\n",
              "      <th>formattedUrl</th>\n",
              "      <th>htmlFormattedUrl</th>\n",
              "      <th>htmlSnippet</th>\n",
              "      <th>htmlTitle</th>\n",
              "      <th>inputEncoding</th>\n",
              "      <th>kind</th>\n",
              "      <th>outputEncoding</th>\n",
              "      <th>pagemap</th>\n",
              "      <th>safe</th>\n",
              "      <th>searchTime</th>\n",
              "      <th>startIndex</th>\n",
              "      <th>cse_thumbnail</th>\n",
              "      <th>metatags</th>\n",
              "      <th>cse_image</th>\n",
              "      <th>listitem</th>\n",
              "      <th>monetaryamount</th>\n",
              "      <th>quantitativevalue</th>\n",
              "      <th>jobposting</th>\n",
              "      <th>propertyvalue</th>\n",
              "      <th>organization</th>\n",
              "      <th>postaladdress</th>\n",
              "      <th>sitenavigationelement</th>\n",
              "      <th>og:image</th>\n",
              "      <th>...</th>\n",
              "      <th>documentcategory</th>\n",
              "      <th>institution</th>\n",
              "      <th>parldatarssuri</th>\n",
              "      <th>parldatauri</th>\n",
              "      <th>documenttitle</th>\n",
              "      <th>documentid</th>\n",
              "      <th>build</th>\n",
              "      <th>governmentorganization</th>\n",
              "      <th>contactpoint</th>\n",
              "      <th>dd-trace-time</th>\n",
              "      <th>dd-trace-id</th>\n",
              "      <th>ids_page-contact_cap-emploi</th>\n",
              "      <th>og:titre</th>\n",
              "      <th>wpsso-begin</th>\n",
              "      <th>dcterms:accessrights</th>\n",
              "      <th>dcterms:service</th>\n",
              "      <th>Post</th>\n",
              "      <th>crossmarkdomains_1_</th>\n",
              "      <th>crossmarkdomains_2_</th>\n",
              "      <th>crossmarkmajorversiondate</th>\n",
              "      <th>crossmarkdomainexclusive</th>\n",
              "      <th>elsevierwebpdfspecifications</th>\n",
              "      <th>doi</th>\n",
              "      <th>&lt;modeltra&gt;</th>\n",
              "      <th>created with</th>\n",
              "      <th>&lt;modelcod&gt;</th>\n",
              "      <th>&lt;extension&gt;</th>\n",
              "      <th>lastedited with</th>\n",
              "      <th>&lt;model&gt;</th>\n",
              "      <th>pe number</th>\n",
              "      <th>&lt;modelvie&gt;</th>\n",
              "      <th>&lt;type&gt;</th>\n",
              "      <th>footerpath</th>\n",
              "      <th>&lt;fdr&gt;</th>\n",
              "      <th>business:contact_data:postal_code</th>\n",
              "      <th>business:contact_data:locality</th>\n",
              "      <th>business:contact_data:region</th>\n",
              "      <th>product:price:currency</th>\n",
              "      <th>product:price:amount</th>\n",
              "      <th>business:contact_data:street_address</th>\n",
              "    </tr>\n",
              "  </thead>\n",
              "  <tbody>\n",
              "    <tr>\n",
              "      <th>906</th>\n",
              "      <td>7</td>\n",
              "      <td>fr</td>\n",
              "      <td>21.0</td>\n",
              "      <td>Emploi PREPARATEUR DE COMMANDES H/F - Vourles</td>\n",
              "      <td>28.0</td>\n",
              "      <td>Offres d'emploi Mornant (69440) - Alentoor</td>\n",
              "      <td>Toutes les offres d'emploi à Mornant et aux en...</td>\n",
              "      <td>www.alentoor.fr</td>\n",
              "      <td>https://www.alentoor.fr/mornant/emploi</td>\n",
              "      <td>2021-11-25 13:49:53.923127+00:00</td>\n",
              "      <td>5300.0</td>\n",
              "      <td>fI0kfDX7YSYJ</td>\n",
              "      <td>10.0</td>\n",
              "      <td>chiotte</td>\n",
              "      <td>e7653c0516e574854</td>\n",
              "      <td>0.3</td>\n",
              "      <td>5,300</td>\n",
              "      <td>https://www.alentoor.fr/mornant/emploi</td>\n",
              "      <td>https://www.alentoor.fr/mornant/&lt;b&gt;emploi&lt;/b&gt;</td>\n",
              "      <td>Toutes les offres d&amp;#39;&lt;b&gt;emploi&lt;/b&gt; à Mornan...</td>\n",
              "      <td>Offres d&amp;#39;&lt;b&gt;emploi&lt;/b&gt; Mornant (69440) - A...</td>\n",
              "      <td>utf8</td>\n",
              "      <td>customsearch#result</td>\n",
              "      <td>utf8</td>\n",
              "      <td>{'cse_thumbnail': [{'src': 'https://encrypted-...</td>\n",
              "      <td>off</td>\n",
              "      <td>0.30417</td>\n",
              "      <td>21.0</td>\n",
              "      <td>[{'src': 'https://encrypted-tbn0.gstatic.com/i...</td>\n",
              "      <td>[{'msapplication-tilecolor': '#9addf7', 'og:im...</td>\n",
              "      <td>[{'src': 'https://www.alentoor.fr/assets/img/s...</td>\n",
              "      <td>[{'item': 'Emploi Rhône-Alpes', 'name': 'Emplo...</td>\n",
              "      <td>NaN</td>\n",
              "      <td>NaN</td>\n",
              "      <td>NaN</td>\n",
              "      <td>NaN</td>\n",
              "      <td>NaN</td>\n",
              "      <td>NaN</td>\n",
              "      <td>NaN</td>\n",
              "      <td>https://www.alentoor.fr/assets/img/social/face...</td>\n",
              "      <td>...</td>\n",
              "      <td>NaN</td>\n",
              "      <td>NaN</td>\n",
              "      <td>NaN</td>\n",
              "      <td>NaN</td>\n",
              "      <td>NaN</td>\n",
              "      <td>NaN</td>\n",
              "      <td>NaN</td>\n",
              "      <td>NaN</td>\n",
              "      <td>NaN</td>\n",
              "      <td>NaN</td>\n",
              "      <td>NaN</td>\n",
              "      <td>NaN</td>\n",
              "      <td>NaN</td>\n",
              "      <td>NaN</td>\n",
              "      <td>NaN</td>\n",
              "      <td>NaN</td>\n",
              "      <td>NaN</td>\n",
              "      <td>NaN</td>\n",
              "      <td>NaN</td>\n",
              "      <td>NaN</td>\n",
              "      <td>NaN</td>\n",
              "      <td>NaN</td>\n",
              "      <td>NaN</td>\n",
              "      <td>NaN</td>\n",
              "      <td>NaN</td>\n",
              "      <td>NaN</td>\n",
              "      <td>NaN</td>\n",
              "      <td>NaN</td>\n",
              "      <td>NaN</td>\n",
              "      <td>NaN</td>\n",
              "      <td>NaN</td>\n",
              "      <td>NaN</td>\n",
              "      <td>NaN</td>\n",
              "      <td>NaN</td>\n",
              "      <td>NaN</td>\n",
              "      <td>NaN</td>\n",
              "      <td>NaN</td>\n",
              "      <td>NaN</td>\n",
              "      <td>NaN</td>\n",
              "      <td>NaN</td>\n",
              "    </tr>\n",
              "  </tbody>\n",
              "</table>\n",
              "<p>1 rows × 1541 columns</p>\n",
              "</div>"
            ],
            "text/plain": [
              "    Unnamed: 0  gl  ...  product:price:amount business:contact_data:street_address\n",
              "906          7  fr  ...                   NaN                                  NaN\n",
              "\n",
              "[1 rows x 1541 columns]"
            ]
          },
          "metadata": {},
          "execution_count": 8
        }
      ]
    },
    {
      "cell_type": "code",
      "metadata": {
        "id": "b_garH3dQJ1n"
      },
      "source": [
        "# There are more than 1500 columns such as 'fileFormat',\n",
        "# 'formattedSearchTime', 'formattedTotalResults', 'formattedUrl',\n",
        "# 'htmlFormattedUrl', 'htmlSnippet', 'htmlTitle', 'inputEncoding', 'kind',\n",
        "# 'mime', 'outputEncoding', 'pagemap', 'safe', 'searchTime', 'startIndex',\n",
        "# 'cse_thumbnail', 'metatags', 'cse_image', 'listitem', 'BreadcrumbList',\n",
        "# 'article', 'msapplication-tilecolor', 'og:image', 'og:type',\n",
        "# 'og:image:width', 'fb:app_id', 'theme-color', 'viewport', 'og:title',\n",
        "# 'og:image:height', 'og:url', 'og:description', 'format-detection',\n",
        "# 'twitter:app:id:googleplay'... We'll then select the most useful for ou analysis\n",
        "\n",
        "df = df[['searchTerms', 'rank', 'title','displayLink', 'link']] "
      ],
      "execution_count": 9,
      "outputs": []
    },
    {
      "cell_type": "code",
      "metadata": {
        "colab": {
          "base_uri": "https://localhost:8080/"
        },
        "id": "_Z6ymRHTQ02A",
        "outputId": "ba64314d-142e-450c-82cb-48176a909324"
      },
      "source": [
        "# Drop records with no availaible url\n",
        "df.dropna(subset=['link'], inplace=True)\n",
        "print(df.shape)"
      ],
      "execution_count": 10,
      "outputs": [
        {
          "output_type": "stream",
          "name": "stdout",
          "text": [
            "(108776, 5)\n"
          ]
        }
      ]
    },
    {
      "cell_type": "markdown",
      "metadata": {
        "id": "C977pmIWXCP1"
      },
      "source": [
        "# Load pages from 0 to 100"
      ]
    },
    {
      "cell_type": "code",
      "metadata": {
        "id": "8orvJCCUFKyO"
      },
      "source": [
        "# Loading all scraped pages from position 0 to 100\n",
        "\n",
        "pages_liste = ['out_of_top.csv', 'lot1.csv', 'lot2.csv', 'lot3.csv', 'lot4.csv', '11_to_20.csv'] #préférer les fichiers json"
      ],
      "execution_count": 11,
      "outputs": []
    },
    {
      "cell_type": "code",
      "metadata": {
        "id": "Fzz1i9qPYc2A"
      },
      "source": [
        "os.chdir('/content/drive/MyDrive/111_goldfinger/data_collection/all_pages')\n",
        "dfr = pd.DataFrame()\n",
        "for e in pages_liste:\n",
        "  print(e)\n",
        "  dfr = pd.concat([dfr, pd.read_csv(e,error_bad_lines=False, skip_blank_lines=True, engine=\"python\")], axis=0)\n"
      ],
      "execution_count": null,
      "outputs": []
    },
    {
      "cell_type": "code",
      "metadata": {
        "colab": {
          "base_uri": "https://localhost:8080/"
        },
        "id": "yY3AXtFzkTg4",
        "outputId": "8af30383-8111-4774-b866-a0dc601af081"
      },
      "source": [
        "dfr.shape"
      ],
      "execution_count": 13,
      "outputs": [
        {
          "output_type": "execute_result",
          "data": {
            "text/plain": [
              "(94120, 12)"
            ]
          },
          "metadata": {},
          "execution_count": 13
        }
      ]
    },
    {
      "cell_type": "code",
      "metadata": {
        "colab": {
          "base_uri": "https://localhost:8080/",
          "height": 184
        },
        "id": "cYEWy9BuHNRA",
        "outputId": "84e1a2c8-be5f-4f88-fd4a-b1d792d7ba63"
      },
      "source": [
        "# Merge position and pages content\n",
        "data = dfr.merge(df, left_on='raw_url', right_on='link', how='left')  #à reprendre quand integ en json\n",
        "data.sample()\n"
      ],
      "execution_count": 14,
      "outputs": [
        {
          "output_type": "execute_result",
          "data": {
            "text/html": [
              "<div>\n",
              "<style scoped>\n",
              "    .dataframe tbody tr th:only-of-type {\n",
              "        vertical-align: middle;\n",
              "    }\n",
              "\n",
              "    .dataframe tbody tr th {\n",
              "        vertical-align: top;\n",
              "    }\n",
              "\n",
              "    .dataframe thead th {\n",
              "        text-align: right;\n",
              "    }\n",
              "</style>\n",
              "<table border=\"1\" class=\"dataframe\">\n",
              "  <thead>\n",
              "    <tr style=\"text-align: right;\">\n",
              "      <th></th>\n",
              "      <th>canonical</th>\n",
              "      <th>content</th>\n",
              "      <th>h1</th>\n",
              "      <th>h2</th>\n",
              "      <th>h3</th>\n",
              "      <th>h4</th>\n",
              "      <th>header_links_href</th>\n",
              "      <th>header_links_text</th>\n",
              "      <th>meta_desc</th>\n",
              "      <th>nav_links_text</th>\n",
              "      <th>raw_url</th>\n",
              "      <th>title_x</th>\n",
              "      <th>searchTerms</th>\n",
              "      <th>rank</th>\n",
              "      <th>title_y</th>\n",
              "      <th>displayLink</th>\n",
              "      <th>link</th>\n",
              "    </tr>\n",
              "  </thead>\n",
              "  <tbody>\n",
              "    <tr>\n",
              "      <th>77772</th>\n",
              "      <td>https://www.offresdinterim.com/</td>\n",
              "      <td>Offresdinterim.com est un site d'offres d'empl...</td>\n",
              "      <td>Accueil</td>\n",
              "      <td>Notre mission,@@c'est la votre@@Nos Annonces</td>\n",
              "      <td>Trouvez la mission que vous recherchez !@@Vous...</td>\n",
              "      <td>NaN</td>\n",
              "      <td>https://www.offresdinterim.com/mon-compte/@@ht...</td>\n",
              "      <td>Se connecter@@S'inscrire@@Mon compte@@Espace A...</td>\n",
              "      <td>NaN</td>\n",
              "      <td>Trouver un job@@Tarification@@A propos@@Contac...</td>\n",
              "      <td>https://www.offresdinterim.com/</td>\n",
              "      <td>Accueil - Offres d'Interim, CDD, CDI en France</td>\n",
              "      <td>Emploi CHAUFFEUR SPL FRIGO H/F - Saint-Aubin-s...</td>\n",
              "      <td>9.0</td>\n",
              "      <td>Offres d'Interim, CDD, CDI en France: Accueil</td>\n",
              "      <td>www.offresdinterim.com</td>\n",
              "      <td>https://www.offresdinterim.com/</td>\n",
              "    </tr>\n",
              "  </tbody>\n",
              "</table>\n",
              "</div>"
            ],
            "text/plain": [
              "                             canonical  ...                             link\n",
              "77772  https://www.offresdinterim.com/  ...  https://www.offresdinterim.com/\n",
              "\n",
              "[1 rows x 17 columns]"
            ]
          },
          "metadata": {},
          "execution_count": 14
        }
      ]
    },
    {
      "cell_type": "code",
      "metadata": {
        "colab": {
          "base_uri": "https://localhost:8080/",
          "height": 198
        },
        "id": "IqaWIUdUln4J",
        "outputId": "b131844f-7f03-47af-e585-b274990cce85"
      },
      "source": [
        "data.sample()"
      ],
      "execution_count": null,
      "outputs": [
        {
          "data": {
            "text/html": [
              "<div>\n",
              "<style scoped>\n",
              "    .dataframe tbody tr th:only-of-type {\n",
              "        vertical-align: middle;\n",
              "    }\n",
              "\n",
              "    .dataframe tbody tr th {\n",
              "        vertical-align: top;\n",
              "    }\n",
              "\n",
              "    .dataframe thead th {\n",
              "        text-align: right;\n",
              "    }\n",
              "</style>\n",
              "<table border=\"1\" class=\"dataframe\">\n",
              "  <thead>\n",
              "    <tr style=\"text-align: right;\">\n",
              "      <th></th>\n",
              "      <th>canonical</th>\n",
              "      <th>content</th>\n",
              "      <th>h1</th>\n",
              "      <th>h2</th>\n",
              "      <th>h3</th>\n",
              "      <th>h4</th>\n",
              "      <th>header_links_href</th>\n",
              "      <th>header_links_text</th>\n",
              "      <th>meta_desc</th>\n",
              "      <th>nav_links_text</th>\n",
              "      <th>raw_url</th>\n",
              "      <th>title_x</th>\n",
              "      <th>searchTerms</th>\n",
              "      <th>rank</th>\n",
              "      <th>title_y</th>\n",
              "      <th>displayLink</th>\n",
              "      <th>link</th>\n",
              "    </tr>\n",
              "  </thead>\n",
              "  <tbody>\n",
              "    <tr>\n",
              "      <th>204576</th>\n",
              "      <td>NaN</td>\n",
              "      <td>x x Etes-vous sur de vouloir supprimer votre c...</td>\n",
              "      <td>Offres d'emploi dans la region Ile-de-France</td>\n",
              "      <td>Main navigation@@Les offres d'emploi :</td>\n",
              "      <td>Departements de la region Ile-de-France :@@Aut...</td>\n",
              "      <td>Menu utilisateur@@Mot de passe oublie@@Candida...</td>\n",
              "      <td>/@@#show-block-start-main-menu@@#hide-block-st...</td>\n",
              "      <td>Afficher -- Main navigation@@Masquer -- Main n...</td>\n",
              "      <td>NaN</td>\n",
              "      <td>Afficher -- Main navigation@@Masquer -- Main n...</td>\n",
              "      <td>https://www.startpeople.fr/offres-emploi/ile-d...</td>\n",
              "      <td>Offres d'emploi dans la region Ile-de-France |...</td>\n",
              "      <td>Emploi FACTEUR A VELO H/F - Palaiseau</td>\n",
              "      <td>7.0</td>\n",
              "      <td>Offres d'emploi dans la région Île-de-France |...</td>\n",
              "      <td>www.startpeople.fr</td>\n",
              "      <td>https://www.startpeople.fr/offres-emploi/ile-d...</td>\n",
              "    </tr>\n",
              "  </tbody>\n",
              "</table>\n",
              "</div>"
            ],
            "text/plain": [
              "       canonical  ...                                               link\n",
              "204576       NaN  ...  https://www.startpeople.fr/offres-emploi/ile-d...\n",
              "\n",
              "[1 rows x 17 columns]"
            ]
          },
          "execution_count": 124,
          "metadata": {},
          "output_type": "execute_result"
        }
      ]
    },
    {
      "cell_type": "code",
      "metadata": {
        "id": "3CDW7XNZZl5E"
      },
      "source": [
        "data = data.drop(columns = ['title_y']).rename(columns={'title_x' :'title'})\n",
        "data.drop_duplicates(inplace=True)"
      ],
      "execution_count": 15,
      "outputs": []
    },
    {
      "cell_type": "code",
      "metadata": {
        "colab": {
          "base_uri": "https://localhost:8080/"
        },
        "id": "DqqKZdeNKe3U",
        "outputId": "1bf33239-d497-4e64-a98d-b4bfbe1a4c5a"
      },
      "source": [
        "data.shape"
      ],
      "execution_count": 16,
      "outputs": [
        {
          "output_type": "execute_result",
          "data": {
            "text/plain": [
              "(131678, 16)"
            ]
          },
          "metadata": {},
          "execution_count": 16
        }
      ]
    },
    {
      "cell_type": "code",
      "metadata": {
        "id": "kkslqEtNc4C1"
      },
      "source": [
        "os.chdir('/content/drive/MyDrive/111_goldfinger/data_processing')\n",
        "data.to_csv('brut_data.csv')"
      ],
      "execution_count": 18,
      "outputs": []
    },
    {
      "cell_type": "markdown",
      "metadata": {
        "id": "pGmjo1UEtRiX"
      },
      "source": [
        "# Semantic scores calculation "
      ]
    },
    {
      "cell_type": "code",
      "metadata": {
        "id": "RCxPFFv0lI0b"
      },
      "source": [
        "data = pd.read_csv('/content/drive/MyDrive/111_goldfinger/data_processing/brut_data.csv')\n",
        "data = data[~data['rank'].isna()] #drop lines with no position"
      ],
      "execution_count": 10,
      "outputs": []
    },
    {
      "cell_type": "code",
      "metadata": {
        "id": "6ICqHbaa02mu"
      },
      "source": [
        "data.drop_duplicates(inplace=True)"
      ],
      "execution_count": 12,
      "outputs": []
    },
    {
      "cell_type": "code",
      "metadata": {
        "id": "lwPf1-TKwJbA"
      },
      "source": [
        "#content\n",
        "data['content_len']               = [len(str(x)) for x in data.content]\n",
        "\n",
        "#title\n",
        "data['title_len_char']             = [len(str(x)) for x in data.title]\n",
        "\n",
        "#h1\n",
        "data['h1_len']                    = [len(str(x).split(' ')) for x in data.h1]\n",
        "\n",
        " \n",
        "#h2, h3\n",
        "data['nb_h2'] \t\t\t\t\t          = [len(re.findall('@@',str(x))) for x in data.h2]\n",
        "data['nb_h3'] \t\t\t\t\t          = [len(re.findall('@@',str(x))) for x in data.h3]\n",
        "\n",
        "#links\n",
        "data['nb_links']                  = [len(re.findall('@@',str(x))) for x in data.nav_links_text]\n",
        "data['has_canonical']             = [1 if isinstance(x, str) else 0 for x in data.canonical]\n",
        "data['is_top_ten']                = [1 if x < 11 else 0 for x in data['rank']]\n",
        "\n",
        "\n",
        "# data.to_csv('+++basic.csv')       "
      ],
      "execution_count": 14,
      "outputs": []
    },
    {
      "cell_type": "code",
      "metadata": {
        "id": "O0Un6qoGoCea"
      },
      "source": [
        "data = data.drop(columns= ['Unnamed: 0', 'canonical', 'h2', 'h3', 'h4', 'meta_desc',\n",
        "        'title', 'searchTerms', 'nav_links_text', 'rank'])"
      ],
      "execution_count": 17,
      "outputs": []
    },
    {
      "cell_type": "code",
      "metadata": {
        "id": "fXTKkfSWpxec"
      },
      "source": [
        "data.to_csv('data_without_score.csv')"
      ],
      "execution_count": 18,
      "outputs": []
    },
    {
      "cell_type": "markdown",
      "metadata": {
        "id": "36dBu6yCqk9Y"
      },
      "source": [
        "adding semantic scores for title & content"
      ]
    },
    {
      "cell_type": "code",
      "metadata": {
        "colab": {
          "base_uri": "https://localhost:8080/"
        },
        "id": "-riia5hmnpXY",
        "outputId": "07339ae8-b325-4ed9-8844-0e1fe13fb2b2"
      },
      "source": [
        "# Check if the kw list is loaded\n",
        "kw[random.randint(0, len(kw))]"
      ],
      "execution_count": 21,
      "outputs": [
        {
          "output_type": "execute_result",
          "data": {
            "text/plain": [
              "array(['chauffeur livreur véhicule léger', 500.0], dtype=object)"
            ]
          },
          "metadata": {},
          "execution_count": 21
        }
      ]
    },
    {
      "cell_type": "code",
      "metadata": {
        "id": "zvuBygibFWe1"
      },
      "source": [
        "# Custom function to estimate semantic relevance\n",
        "# Goal :  evaluate if any of keywords is in document \n",
        "# Returns a score based on number of (Google Ads) keywords in text x volume (of search) / text lenght\n",
        "\n",
        "def word_score(doc, kw):\n",
        "  score = 0\n",
        "  tokens = []\n",
        "  try:\n",
        "    if isinstance(doc, str):\n",
        "      doc = doc.lower()\n",
        "      if '@@' in doc:\n",
        "        doc = doc.split('@@')\n",
        "        \n",
        "      initial_len = len(doc.split(' '))\n",
        "      \n",
        "      for e in kw:\n",
        "        if doc is not None:\n",
        "          try:\n",
        "            if len(doc.replace(e[0], '')) < len(doc):\n",
        "              score += e[1]\n",
        "              tokens += e[0] + '@@'\n",
        "              doc = doc.replace(e[0], '')\n",
        "          except:\n",
        "            pass\n",
        "\n",
        "      score = score / initial_len\n",
        "  except:\n",
        "    score = 0\n",
        "    tokens = []\n",
        "\n",
        "  \n",
        "  return score\n"
      ],
      "execution_count": null,
      "outputs": []
    },
    {
      "cell_type": "code",
      "metadata": {
        "id": "lwASlqmaJSq_"
      },
      "source": [
        "data['content_score']             = [word_score(x, kw) for x in data.content]\n",
        "data['title_score']               = [word_score(x, kw) for x in data.title]\n"
      ],
      "execution_count": null,
      "outputs": []
    },
    {
      "cell_type": "code",
      "metadata": {
        "colab": {
          "base_uri": "https://localhost:8080/",
          "height": 218
        },
        "id": "AmnOtEm_7E_S",
        "outputId": "e7874010-a249-412b-8400-0b0f9595c18e"
      },
      "source": [
        "data.sample()"
      ],
      "execution_count": 52,
      "outputs": [
        {
          "output_type": "execute_result",
          "data": {
            "text/html": [
              "<div>\n",
              "<style scoped>\n",
              "    .dataframe tbody tr th:only-of-type {\n",
              "        vertical-align: middle;\n",
              "    }\n",
              "\n",
              "    .dataframe tbody tr th {\n",
              "        vertical-align: top;\n",
              "    }\n",
              "\n",
              "    .dataframe thead th {\n",
              "        text-align: right;\n",
              "    }\n",
              "</style>\n",
              "<table border=\"1\" class=\"dataframe\">\n",
              "  <thead>\n",
              "    <tr style=\"text-align: right;\">\n",
              "      <th></th>\n",
              "      <th>Unnamed: 0</th>\n",
              "      <th>content</th>\n",
              "      <th>h1</th>\n",
              "      <th>header_links_href</th>\n",
              "      <th>header_links_text</th>\n",
              "      <th>raw_url</th>\n",
              "      <th>displayLink</th>\n",
              "      <th>link</th>\n",
              "      <th>content_len</th>\n",
              "      <th>title_len_char</th>\n",
              "      <th>h1_len</th>\n",
              "      <th>nb_h2</th>\n",
              "      <th>nb_h3</th>\n",
              "      <th>nb_links</th>\n",
              "      <th>has_canonical</th>\n",
              "      <th>is_top_ten</th>\n",
              "      <th>content_score</th>\n",
              "      <th>title</th>\n",
              "      <th>title_score</th>\n",
              "    </tr>\n",
              "  </thead>\n",
              "  <tbody>\n",
              "    <tr>\n",
              "      <th>89060</th>\n",
              "      <td>89975</td>\n",
              "      <td>Trouver Employeur Entrer Filtres Date de publi...</td>\n",
              "      <td>Emploi Stage maritime Marseille</td>\n",
              "      <td>/@@/employer/jobposting@@/auth/login/phone?bac...</td>\n",
              "      <td>NaN</td>\n",
              "      <td>https://fr.jooble.org/emploi-stage-maritime/Ma...</td>\n",
              "      <td>fr.jooble.org</td>\n",
              "      <td>https://fr.jooble.org/emploi-stage-maritime/Ma...</td>\n",
              "      <td>5594</td>\n",
              "      <td>95</td>\n",
              "      <td>4</td>\n",
              "      <td>0</td>\n",
              "      <td>0</td>\n",
              "      <td>19</td>\n",
              "      <td>1</td>\n",
              "      <td>1</td>\n",
              "      <td>56.561086</td>\n",
              "      <td>Besoin d'urgence: Stage maritime a Marseille o...</td>\n",
              "      <td>0.0</td>\n",
              "    </tr>\n",
              "  </tbody>\n",
              "</table>\n",
              "</div>"
            ],
            "text/plain": [
              "       Unnamed: 0  ... title_score\n",
              "89060       89975  ...         0.0\n",
              "\n",
              "[1 rows x 19 columns]"
            ]
          },
          "metadata": {},
          "execution_count": 52
        }
      ]
    },
    {
      "cell_type": "code",
      "metadata": {
        "id": "GFqrCtudzQ8z"
      },
      "source": [
        "data.to_csv('/content/drive/MyDrive/111_goldfinger/data_processing/data_w_score.csv')"
      ],
      "execution_count": 45,
      "outputs": []
    },
    {
      "cell_type": "markdown",
      "metadata": {
        "id": "lOpt5xr48FwL"
      },
      "source": [
        "# Append page rank data estimates"
      ]
    },
    {
      "cell_type": "code",
      "metadata": {
        "id": "yI6hJhUpAu0x"
      },
      "source": [
        "data = pd.read_csv('/content/drive/MyDrive/111_goldfinger/data_processing/data_w_score.csv')"
      ],
      "execution_count": 81,
      "outputs": []
    },
    {
      "cell_type": "code",
      "metadata": {
        "id": "1Mq3G8THhYD1"
      },
      "source": [
        "pr = pd.read_csv('/content/drive/MyDrive/111_goldfinger/data_collection/results/page_rank_done.csv').drop(columns='Unnamed: 0')"
      ],
      "execution_count": 82,
      "outputs": []
    },
    {
      "cell_type": "code",
      "metadata": {
        "id": "78_w3-tcHCzj"
      },
      "source": [
        "data = data.merge(pr, left_on='displayLink', right_on='dns', how='left')"
      ],
      "execution_count": 83,
      "outputs": []
    },
    {
      "cell_type": "code",
      "metadata": {
        "id": "HFuWvbiE9DdV"
      },
      "source": [
        "data = data.drop(columns=['Unnamed: 0', 'content', 'h1', 'header_links_href', 'header_links_text',\n",
        "       'raw_url', 'displayLink', 'link', \n",
        "        'title',  'dns']).rename(columns={'score' : 'page_rank'}).drop_duplicates()"
      ],
      "execution_count": 84,
      "outputs": []
    },
    {
      "cell_type": "code",
      "metadata": {
        "id": "DLrZPzd2Fztm"
      },
      "source": [
        "data.drop_duplicates().fillna(0).drop(columns=['Unnamed: 0.1']).to_csv('/content/drive/MyDrive/111_goldfinger/data_processing/experimental.csv')"
      ],
      "execution_count": 88,
      "outputs": []
    },
    {
      "cell_type": "markdown",
      "metadata": {
        "id": "U03hn9wocqcC"
      },
      "source": [
        "# Fetch  & append Majestic Rank, Referring Subnets, Referring IPs data"
      ]
    },
    {
      "cell_type": "markdown",
      "metadata": {
        "id": "o6mTG5LzlRCK"
      },
      "source": [
        "Builtwith offers a splendid api for fetching tech data points.\n",
        "We're going to collect some additionnal features (and check if they are relevant for analysis):\n",
        "```\n",
        "* technologies'  = len(r.json()['Results'][0]['Result']['Paths'][0]['Technologies'])\n",
        "* 'mjrank'       = r.json()['Results'][0]['Meta']['MJRank']                           #Majestic Rank between 1 and 1,000,000\n",
        "* 'a_rank'        = r.json()['Results'][0]['Meta']['ARank']                           #Page Rank between 1 and 100,000,000\n",
        "* 'ref_sn'        = r.json()['Results'][0]['Attributes']['RefSN']                     #Referring Subnets to Domain from Majestic\n",
        "* 'ref_ip'        = r.json()['Results'][0]['Attributes']['RefIP']                     #Referring IPs to Domain from Majestic\n",
        "```\n",
        "\n"
      ]
    },
    {
      "cell_type": "markdown",
      "metadata": {
        "id": "DPT5U9NqmyhV"
      },
      "source": [
        "Selecting most frequent domains (> 93% of dataset)"
      ]
    },
    {
      "cell_type": "code",
      "metadata": {
        "id": "PYxhbdilWSNL"
      },
      "source": [
        "import pandas as pd\n",
        "df = pd.read_csv('/content/drive/MyDrive/111_goldfinger/data_processing/data_w_score.csv')"
      ],
      "execution_count": 92,
      "outputs": []
    },
    {
      "cell_type": "code",
      "metadata": {
        "colab": {
          "base_uri": "https://localhost:8080/"
        },
        "id": "WbKLHgAqWV7D",
        "outputId": "62e79924-078f-43f9-8a6b-f37c06562903"
      },
      "source": [
        "#Enumeration of unique domains\n",
        "df = df[['displayLink', 'link']]\n",
        "df.displayLink.unique()\n",
        "print(len(df.displayLink.unique()), 'unique domains')"
      ],
      "execution_count": 26,
      "outputs": [
        {
          "output_type": "stream",
          "name": "stdout",
          "text": [
            "4353 unique domains\n"
          ]
        }
      ]
    },
    {
      "cell_type": "code",
      "metadata": {
        "colab": {
          "base_uri": "https://localhost:8080/",
          "height": 418
        },
        "id": "frK8pksxY6yY",
        "outputId": "0b3cbfd5-2eba-4ab7-d6cd-75f43e4014f3"
      },
      "source": [
        "# What are the dns that come up most often?\n",
        "count_dns = df.displayLink.value_counts().to_frame()\n",
        "count_dns['cum_sum'] = count_dns['displayLink'].cumsum()\n",
        "count_dns['cum_perc'] = 100*count_dns['cum_sum']/count_dns['displayLink'].sum()\n",
        "count_dns = count_dns[count_dns.displayLink\t > 10]\n",
        "count_dns\n"
      ],
      "execution_count": 33,
      "outputs": [
        {
          "output_type": "execute_result",
          "data": {
            "text/html": [
              "<div>\n",
              "<style scoped>\n",
              "    .dataframe tbody tr th:only-of-type {\n",
              "        vertical-align: middle;\n",
              "    }\n",
              "\n",
              "    .dataframe tbody tr th {\n",
              "        vertical-align: top;\n",
              "    }\n",
              "\n",
              "    .dataframe thead th {\n",
              "        text-align: right;\n",
              "    }\n",
              "</style>\n",
              "<table border=\"1\" class=\"dataframe\">\n",
              "  <thead>\n",
              "    <tr style=\"text-align: right;\">\n",
              "      <th></th>\n",
              "      <th>displayLink</th>\n",
              "      <th>cum_sum</th>\n",
              "      <th>cum_perc</th>\n",
              "    </tr>\n",
              "  </thead>\n",
              "  <tbody>\n",
              "    <tr>\n",
              "      <th>www.manpower.fr</th>\n",
              "      <td>15156</td>\n",
              "      <td>15156</td>\n",
              "      <td>11.596643</td>\n",
              "    </tr>\n",
              "    <tr>\n",
              "      <th>fr.indeed.com</th>\n",
              "      <td>6944</td>\n",
              "      <td>22100</td>\n",
              "      <td>16.909857</td>\n",
              "    </tr>\n",
              "    <tr>\n",
              "      <th>www.meteojob.com</th>\n",
              "      <td>5962</td>\n",
              "      <td>28062</td>\n",
              "      <td>21.471693</td>\n",
              "    </tr>\n",
              "    <tr>\n",
              "      <th>candidat.pole-emploi.fr</th>\n",
              "      <td>5584</td>\n",
              "      <td>33646</td>\n",
              "      <td>25.744302</td>\n",
              "    </tr>\n",
              "    <tr>\n",
              "      <th>fr.jooble.org</th>\n",
              "      <td>5154</td>\n",
              "      <td>38800</td>\n",
              "      <td>29.687895</td>\n",
              "    </tr>\n",
              "    <tr>\n",
              "      <th>...</th>\n",
              "      <td>...</td>\n",
              "      <td>...</td>\n",
              "      <td>...</td>\n",
              "    </tr>\n",
              "    <tr>\n",
              "      <th>www.acapars.com</th>\n",
              "      <td>11</td>\n",
              "      <td>121533</td>\n",
              "      <td>92.991208</td>\n",
              "    </tr>\n",
              "    <tr>\n",
              "      <th>www.viseointerim.fr</th>\n",
              "      <td>11</td>\n",
              "      <td>121544</td>\n",
              "      <td>92.999625</td>\n",
              "    </tr>\n",
              "    <tr>\n",
              "      <th>www.helpemploi.fr</th>\n",
              "      <td>11</td>\n",
              "      <td>121555</td>\n",
              "      <td>93.008042</td>\n",
              "    </tr>\n",
              "    <tr>\n",
              "      <th>www.rungis-emplois.com</th>\n",
              "      <td>11</td>\n",
              "      <td>121566</td>\n",
              "      <td>93.016458</td>\n",
              "    </tr>\n",
              "    <tr>\n",
              "      <th>jobetudiant.net</th>\n",
              "      <td>11</td>\n",
              "      <td>121577</td>\n",
              "      <td>93.024875</td>\n",
              "    </tr>\n",
              "  </tbody>\n",
              "</table>\n",
              "<p>555 rows × 3 columns</p>\n",
              "</div>"
            ],
            "text/plain": [
              "                         displayLink  cum_sum   cum_perc\n",
              "www.manpower.fr                15156    15156  11.596643\n",
              "fr.indeed.com                   6944    22100  16.909857\n",
              "www.meteojob.com                5962    28062  21.471693\n",
              "candidat.pole-emploi.fr         5584    33646  25.744302\n",
              "fr.jooble.org                   5154    38800  29.687895\n",
              "...                              ...      ...        ...\n",
              "www.acapars.com                   11   121533  92.991208\n",
              "www.viseointerim.fr               11   121544  92.999625\n",
              "www.helpemploi.fr                 11   121555  93.008042\n",
              "www.rungis-emplois.com            11   121566  93.016458\n",
              "jobetudiant.net                   11   121577  93.024875\n",
              "\n",
              "[555 rows x 3 columns]"
            ]
          },
          "metadata": {},
          "execution_count": 33
        }
      ]
    },
    {
      "cell_type": "code",
      "metadata": {
        "id": "Q-JkOQp1kXwS"
      },
      "source": [
        "import os\n",
        "import requests\n",
        "from time import sleep\n",
        "bw_key = open(\"/content/drive/MyDrive/111_goldfinger/data_collection/bw_key\", \"r\").read()\n",
        "tech_features = pd.DataFrame()\n",
        "\n",
        "for elem in count_dns.index:\n",
        "  e = elem.replace('www.', '')\n",
        "  url = 'https://api.builtwith.com/v19/api.json?KEY='  + bw_key + '&LOOKUP=' +e\n",
        "\n",
        "  r = requests.get(url)\n",
        "  try:\n",
        "    technologies  = len(r.json()['Results'][0]['Result']['Paths'][0]['Technologies'])\n",
        "  except:\n",
        "    technologies =0\n",
        "  try:\n",
        "    majestic      = r.json()['Results'][0]['Meta']['Majestic'] \n",
        "  except:\n",
        "    majestic = 0\n",
        "  try:\n",
        "    mjrank         = r.json()['Results'][0]['Attributes']['MJRank']\n",
        "  except:\n",
        "    mjrank = 0\n",
        "  try:\n",
        "    a_rank        = r.json()['Results'][0]['Meta']['ARank']\n",
        "  except:\n",
        "    a_rank = 0\n",
        "  try:                              \n",
        "    ref_sn        = r.json()['Results'][0]['Attributes']['RefSN']\n",
        "  except:\n",
        "    ref_sn = 0\n",
        "  try:                  \n",
        "    ref_ip        = r.json()['Results'][0]['Attributes']['RefIP']\n",
        "  except:\n",
        "    ref_ip = 0\n",
        "  try:                 \n",
        "    spend         = r.json()['Results'][0]['Result']['Spend']\n",
        "  except:\n",
        "    spend = 0\n",
        "\n",
        "  tech = {\n",
        "  'dns'           : elem,\n",
        "  'technologies'  : technologies,\n",
        "  'majestic'      : majestic,\n",
        "  'mjrank'        : mjrank,                          \n",
        "  'a_rank'        : a_rank,                          \n",
        "  'ref_sn'        : ref_sn,                    \n",
        "  'ref_ip'        : ref_ip,                    \n",
        "  'spend'         : spend,                    \n",
        "  }\n",
        "\n",
        "  tech_features = pd.concat([tech_features,pd.DataFrame.from_dict(data=tech, orient='index').T], axis=0 )\n",
        "  sleep(0.5)\n",
        "tech_features.to_csv('/content/drive/MyDrive/111_goldfinger/data_collection/builtwith.csv')\n",
        "tech_features"
      ],
      "execution_count": null,
      "outputs": []
    },
    {
      "cell_type": "code",
      "metadata": {
        "id": "ZvORT7z23vHy"
      },
      "source": [
        "# Merging DataFrames\n",
        "df_with_tech= df.merge(tech_features, left_on='displayLink', right_on='dns', how='left')\n"
      ],
      "execution_count": 94,
      "outputs": []
    },
    {
      "cell_type": "code",
      "metadata": {
        "id": "U8g0d5o1p2LX"
      },
      "source": [
        "df_with_tech = df_with_tech.drop(columns= ['Unnamed: 0', 'Unnamed: 0.1', 'content', 'h1', 'header_links_href',\n",
        "       'header_links_text', 'raw_url', 'displayLink', 'link','title','dns'])\n"
      ],
      "execution_count": 99,
      "outputs": []
    },
    {
      "cell_type": "code",
      "metadata": {
        "colab": {
          "base_uri": "https://localhost:8080/",
          "height": 574
        },
        "id": "OsBbZTPJ3FC7",
        "outputId": "e1ef9bf0-3225-416e-a6c5-863db477a0c1"
      },
      "source": [
        "df_with_tech.sample().T"
      ],
      "execution_count": 100,
      "outputs": [
        {
          "output_type": "execute_result",
          "data": {
            "text/html": [
              "<div>\n",
              "<style scoped>\n",
              "    .dataframe tbody tr th:only-of-type {\n",
              "        vertical-align: middle;\n",
              "    }\n",
              "\n",
              "    .dataframe tbody tr th {\n",
              "        vertical-align: top;\n",
              "    }\n",
              "\n",
              "    .dataframe thead th {\n",
              "        text-align: right;\n",
              "    }\n",
              "</style>\n",
              "<table border=\"1\" class=\"dataframe\">\n",
              "  <thead>\n",
              "    <tr style=\"text-align: right;\">\n",
              "      <th></th>\n",
              "      <th>120820</th>\n",
              "    </tr>\n",
              "  </thead>\n",
              "  <tbody>\n",
              "    <tr>\n",
              "      <th>content_len</th>\n",
              "      <td>2538</td>\n",
              "    </tr>\n",
              "    <tr>\n",
              "      <th>title_len_char</th>\n",
              "      <td>108</td>\n",
              "    </tr>\n",
              "    <tr>\n",
              "      <th>h1_len</th>\n",
              "      <td>1</td>\n",
              "    </tr>\n",
              "    <tr>\n",
              "      <th>nb_h2</th>\n",
              "      <td>6</td>\n",
              "    </tr>\n",
              "    <tr>\n",
              "      <th>nb_h3</th>\n",
              "      <td>0</td>\n",
              "    </tr>\n",
              "    <tr>\n",
              "      <th>nb_links</th>\n",
              "      <td>21</td>\n",
              "    </tr>\n",
              "    <tr>\n",
              "      <th>has_canonical</th>\n",
              "      <td>1</td>\n",
              "    </tr>\n",
              "    <tr>\n",
              "      <th>is_top_ten</th>\n",
              "      <td>0</td>\n",
              "    </tr>\n",
              "    <tr>\n",
              "      <th>content_score</th>\n",
              "      <td>118.765</td>\n",
              "    </tr>\n",
              "    <tr>\n",
              "      <th>title_score</th>\n",
              "      <td>33.3333</td>\n",
              "    </tr>\n",
              "    <tr>\n",
              "      <th>technologies</th>\n",
              "      <td>129</td>\n",
              "    </tr>\n",
              "    <tr>\n",
              "      <th>majestic</th>\n",
              "      <td>880685</td>\n",
              "    </tr>\n",
              "    <tr>\n",
              "      <th>mjrank</th>\n",
              "      <td>893137</td>\n",
              "    </tr>\n",
              "    <tr>\n",
              "      <th>a_rank</th>\n",
              "      <td>721260</td>\n",
              "    </tr>\n",
              "    <tr>\n",
              "      <th>ref_sn</th>\n",
              "      <td>313</td>\n",
              "    </tr>\n",
              "    <tr>\n",
              "      <th>ref_ip</th>\n",
              "      <td>348</td>\n",
              "    </tr>\n",
              "    <tr>\n",
              "      <th>spend</th>\n",
              "      <td>447</td>\n",
              "    </tr>\n",
              "  </tbody>\n",
              "</table>\n",
              "</div>"
            ],
            "text/plain": [
              "                 120820\n",
              "content_len        2538\n",
              "title_len_char      108\n",
              "h1_len                1\n",
              "nb_h2                 6\n",
              "nb_h3                 0\n",
              "nb_links             21\n",
              "has_canonical         1\n",
              "is_top_ten            0\n",
              "content_score   118.765\n",
              "title_score     33.3333\n",
              "technologies        129\n",
              "majestic         880685\n",
              "mjrank           893137\n",
              "a_rank           721260\n",
              "ref_sn              313\n",
              "ref_ip              348\n",
              "spend               447"
            ]
          },
          "metadata": {},
          "execution_count": 100
        }
      ]
    },
    {
      "cell_type": "code",
      "metadata": {
        "id": "AlYfvW_4Bu7a"
      },
      "source": [
        "df_with_tech.to_csv('tech.csv')"
      ],
      "execution_count": 102,
      "outputs": []
    }
  ]
}