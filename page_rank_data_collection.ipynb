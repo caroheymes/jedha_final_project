{
  "nbformat": 4,
  "nbformat_minor": 0,
  "metadata": {
    "colab": {
      "name": "page_rank_data_collection.ipynb",
      "provenance": [],
      "collapsed_sections": [],
      "include_colab_link": true
    },
    "kernelspec": {
      "display_name": "Python 3",
      "name": "python3"
    },
    "language_info": {
      "name": "python"
    }
  },
  "cells": [
    {
      "cell_type": "markdown",
      "metadata": {
        "id": "view-in-github",
        "colab_type": "text"
      },
      "source": [
        "<a href=\"https://colab.research.google.com/github/caroheymes/jedha_final_project/blob/master/page_rank_data_collection.ipynb\" target=\"_parent\"><img src=\"https://colab.research.google.com/assets/colab-badge.svg\" alt=\"Open In Colab\"/></a>"
      ]
    },
    {
      "cell_type": "markdown",
      "metadata": {
        "id": "rmWLlirUk1MI"
      },
      "source": [
        "# **Collecte des page rank**"
      ]
    },
    {
      "cell_type": "markdown",
      "metadata": {
        "id": "AROeCaP7WH2c"
      },
      "source": [
        "Le site https://www.calcul-pagerank.fr/ semble donner un calcul crédible du page_rank Google. \n",
        "\n",
        "Ce score indique la qualité du maillage interne, c'est à dire une évaluation de la qualité des liens qui entrent et qui sortent sur une page donnée. Le Google page rank est confidentiel depuis 2016. \n",
        "\n",
        "En soi, le calcul de l'approximation du page rank devrait faire l'objet d'un projet spécifique. La litterature sur le sujet est assez abondante et devrait permettre d'obtenir de bien meilleurs résultats. Calculer un page rank nécessiterait de crawler l'ensemble d'un site. Ce calcul nécessite en effet de prendre en compte l'ensemble des liens entrants et sortants sur une page déterminée.\n",
        "\n",
        "Pour aller à l'essentiel et pour gagner du temps (une approximation suffit), nous avons donc utilisé le site calcul-page_rank comme source.\n",
        "\n",
        "**Méthode:**\n",
        "\n",
        "Le score est indiqué dans une image obtenue à partir d'une url du type :\n",
        "`https://www.calcul-pagerank.fr/client/www.calcul-pagerank.fr.gif`\n",
        "\n",
        " ✅ Ici pas besoin de machine learning : il n'y a que 10 images pour 10 scores de 0 à 9 !\n",
        "\n",
        " ![6.gif](data:image/gif;base64,R0lGODlhPAANALMAADMzM5KSkkFBQaCgoGlpaa2trU5OTuTk5FxcXNDQ0Hd3d1KTUl6qXpmZmWZmZv///yH5BAAAAAAALAAAAAA8AA0AQARx0MlJq704a/t6D8QzCF7XnGiqrmybelL5FEIim26uu/Dm/8DNbUgsGo/DWAlhAAAGsgZjSq1arwtkqdHTer9gJXhMlok9ASe0zCaeH4oAUXqt17NfbudNkNOiC4GCg4SFeF56D28HTTVtj2YOkJNHDhEAOw==)\n",
        "\n",
        "\n",
        "L'image ci-dessus représente une note de 6.\n",
        "\n",
        "Cette image peut être **analysée comme un tableau numpy**. \n",
        "\n",
        "\n",
        "Il est très facile de comparer des tableaux entre eux.\n",
        "Il \"suffit\" donc de :\n",
        "*   collecter chaque image, pour chaque site (...)\n",
        "*   stocker le tableau numpy correspondant \n",
        "*   rapprocher ce tableau d'un des 10 tableaux déjà connux.\n",
        "\n",
        "\n"
      ]
    },
    {
      "cell_type": "markdown",
      "metadata": {
        "id": "K7AHiowCNIG0"
      },
      "source": [
        "# Capture des données de page rank"
      ]
    },
    {
      "cell_type": "code",
      "metadata": {
        "id": "IV_SiIbmbpnw"
      },
      "source": [
        "# Chargement des packages\n",
        "import requests\n",
        "import PIL.Image\n",
        "import pandas as pd\n",
        "import numpy as np\n",
        "from numpy import asarray\n",
        "from numpy import savetxt\n",
        "from numpy import loadtxt\n",
        "import time"
      ],
      "execution_count": null,
      "outputs": []
    },
    {
      "cell_type": "code",
      "metadata": {
        "id": "3wkU_tLoWnF3"
      },
      "source": [
        "# Création de la fonction de génération du tableau numpy de score pour un site donné\n",
        "\n",
        "def generate_page_rank_array(dns):\n",
        "  #Construction de la requête\n",
        "  if dns[:2] == 'fr':        \n",
        "    elem = 'www' + dns[2:]\n",
        "  else:\n",
        "    elem = dns\n",
        "  url = 'https://www.calcul-pagerank.fr/client/' + elem + '.gif'\n",
        "  s = requests.session()\n",
        "  img_data = s.get(url).content\n",
        "  img_name = dns + '.gif'\n",
        "  \n",
        "  #Je génère l'image\n",
        "  with open(img_name, 'wb') as handler:\n",
        "      handler.write(img_data)\n",
        "  #Je génère l'array pour cet enregistrement\n",
        "  image = PIL.Image.open(img_name)\n",
        "  #image array name\n",
        "  name = 'page_rank_' + dns\n",
        "  name = name\n",
        " \n",
        "  # J'affecte à name le contenu de l'array\n",
        "  name = np.array(image)\n",
        "  \n",
        "  # save to csv file\n",
        "  csv_name = dns + '.csv'\n",
        "  savetxt(csv_name, name, delimiter=',')\n",
        "\n",
        "  return name\n",
        "\n",
        "\n",
        "# Collecte des images et de tableaux \n",
        "\n",
        "all_dns = pd.read_csv('/content/drive/MyDrive/dns.csv').drop(columns=['Unnamed: 0'])\n",
        "mylist = all_dns.displayLink.values\n",
        "page_rank = pd.DataFrame()\n",
        "\n",
        "for e in mylist:\n",
        "  try:\n",
        "    generate_page_rank_array(e)\n",
        "    elem = [e, generate_page_rank_array(e)]\n",
        "  except:\n",
        "    elem = [e, '']\n",
        "  temp = pd.DataFrame(elem).T\n",
        "  page_rank = pd.concat([page_rank, temp], axis=0)\n",
        "page_rank.to_csv('+++++dns_avec tableau.csv')\n",
        "page_rank"
      ],
      "execution_count": null,
      "outputs": []
    },
    {
      "cell_type": "markdown",
      "metadata": {
        "id": "MPtl_1r4MW9O"
      },
      "source": [
        "# Fusion des tables de données"
      ]
    },
    {
      "cell_type": "code",
      "metadata": {
        "colab": {
          "base_uri": "https://localhost:8080/"
        },
        "id": "MTr90MiWYqYm",
        "outputId": "690804ad-1d29-46b7-a332-6c553e95a441"
      },
      "source": [
        "import os\n",
        "from google.colab import drive\n",
        "drive.mount('/content/drive', force_remount=True)"
      ],
      "execution_count": null,
      "outputs": [
        {
          "output_type": "stream",
          "name": "stdout",
          "text": [
            "Mounted at /content/drive\n"
          ]
        }
      ]
    },
    {
      "cell_type": "markdown",
      "metadata": {
        "id": "Z8arFhknMdwx"
      },
      "source": [
        "**On dénombre le nombre de gifs générés à l'issue de la collecte**"
      ]
    },
    {
      "cell_type": "code",
      "metadata": {
        "id": "qtonWCTAjmh6"
      },
      "source": [
        "os.chdir('/content/drive/MyDrive/test')"
      ],
      "execution_count": null,
      "outputs": []
    },
    {
      "cell_type": "code",
      "metadata": {
        "id": "XqxSnZ94j0PN"
      },
      "source": [
        "import os\n",
        "import pandas as pd\n",
        "from fnmatch import fnmatch\n",
        "root = '/content/drive/MyDrive/test'\n",
        "pattern = \"*.gif\"\n",
        "i=0\n",
        "liste = []\n",
        "for path, subdirs, files in os.walk(root):\n",
        "    for name in files:\n",
        "        if fnmatch(name, pattern):\n",
        "            liste.append(name)\n",
        "            i+=1"
      ],
      "execution_count": null,
      "outputs": []
    },
    {
      "cell_type": "code",
      "metadata": {
        "colab": {
          "base_uri": "https://localhost:8080/",
          "height": 204
        },
        "id": "HAPF5aHpkcc4",
        "outputId": "5ee785a6-c424-494c-c7b5-b2034d20c26e"
      },
      "source": [
        "#On rapproche les images générées des nom de domaines\n",
        "done = pd.DataFrame(liste)\n",
        "done = done.rename(columns={0 : 'img_file'})\n",
        "done['dns'] = [c[:c.rfind('.')] for c in done.img_file]\n",
        "done.head()"
      ],
      "execution_count": null,
      "outputs": [
        {
          "output_type": "execute_result",
          "data": {
            "text/html": [
              "<div>\n",
              "<style scoped>\n",
              "    .dataframe tbody tr th:only-of-type {\n",
              "        vertical-align: middle;\n",
              "    }\n",
              "\n",
              "    .dataframe tbody tr th {\n",
              "        vertical-align: top;\n",
              "    }\n",
              "\n",
              "    .dataframe thead th {\n",
              "        text-align: right;\n",
              "    }\n",
              "</style>\n",
              "<table border=\"1\" class=\"dataframe\">\n",
              "  <thead>\n",
              "    <tr style=\"text-align: right;\">\n",
              "      <th></th>\n",
              "      <th>img_file</th>\n",
              "      <th>dns</th>\n",
              "    </tr>\n",
              "  </thead>\n",
              "  <tbody>\n",
              "    <tr>\n",
              "      <th>0</th>\n",
              "      <td>www.carriere-info.fr.gif</td>\n",
              "      <td>www.carriere-info.fr</td>\n",
              "    </tr>\n",
              "    <tr>\n",
              "      <th>1</th>\n",
              "      <td>www.emploi.vendee.fr.gif</td>\n",
              "      <td>www.emploi.vendee.fr</td>\n",
              "    </tr>\n",
              "    <tr>\n",
              "      <th>2</th>\n",
              "      <td>www.exaequo-interim.fr.gif</td>\n",
              "      <td>www.exaequo-interim.fr</td>\n",
              "    </tr>\n",
              "    <tr>\n",
              "      <th>3</th>\n",
              "      <td>www.limoges-emplois.com.gif</td>\n",
              "      <td>www.limoges-emplois.com</td>\n",
              "    </tr>\n",
              "    <tr>\n",
              "      <th>4</th>\n",
              "      <td>www.sauvaje.fr.gif</td>\n",
              "      <td>www.sauvaje.fr</td>\n",
              "    </tr>\n",
              "  </tbody>\n",
              "</table>\n",
              "</div>"
            ],
            "text/plain": [
              "                      img_file                      dns\n",
              "0     www.carriere-info.fr.gif     www.carriere-info.fr\n",
              "1     www.emploi.vendee.fr.gif     www.emploi.vendee.fr\n",
              "2   www.exaequo-interim.fr.gif   www.exaequo-interim.fr\n",
              "3  www.limoges-emplois.com.gif  www.limoges-emplois.com\n",
              "4           www.sauvaje.fr.gif           www.sauvaje.fr"
            ]
          },
          "metadata": {},
          "execution_count": 5
        }
      ]
    },
    {
      "cell_type": "markdown",
      "metadata": {
        "id": "5EnOT0j2MpUS"
      },
      "source": [
        "**Merge avec les dns de base**"
      ]
    },
    {
      "cell_type": "code",
      "metadata": {
        "id": "6h_hUjzsO-1n"
      },
      "source": [
        "base = pd.read_csv('/content/drive/MyDrive/ZZZTEST/dns.csv')\n",
        "result = base.merge(done, left_on='displayLink', right_on ='dns', how='left')"
      ],
      "execution_count": null,
      "outputs": []
    },
    {
      "cell_type": "code",
      "metadata": {
        "colab": {
          "base_uri": "https://localhost:8080/",
          "height": 204
        },
        "id": "Ts_S6JitnswF",
        "outputId": "cf19e2bb-f3d9-4e8f-9ca9-33d2cc43946f"
      },
      "source": [
        "result.head()"
      ],
      "execution_count": null,
      "outputs": [
        {
          "output_type": "execute_result",
          "data": {
            "text/html": [
              "<div>\n",
              "<style scoped>\n",
              "    .dataframe tbody tr th:only-of-type {\n",
              "        vertical-align: middle;\n",
              "    }\n",
              "\n",
              "    .dataframe tbody tr th {\n",
              "        vertical-align: top;\n",
              "    }\n",
              "\n",
              "    .dataframe thead th {\n",
              "        text-align: right;\n",
              "    }\n",
              "</style>\n",
              "<table border=\"1\" class=\"dataframe\">\n",
              "  <thead>\n",
              "    <tr style=\"text-align: right;\">\n",
              "      <th></th>\n",
              "      <th>Unnamed: 0</th>\n",
              "      <th>displayLink</th>\n",
              "      <th>img_file</th>\n",
              "      <th>dns</th>\n",
              "    </tr>\n",
              "  </thead>\n",
              "  <tbody>\n",
              "    <tr>\n",
              "      <th>0</th>\n",
              "      <td>0</td>\n",
              "      <td>candidat.pole-emploi.fr</td>\n",
              "      <td>candidat.pole-emploi.fr.gif</td>\n",
              "      <td>candidat.pole-emploi.fr</td>\n",
              "    </tr>\n",
              "    <tr>\n",
              "      <th>1</th>\n",
              "      <td>1</td>\n",
              "      <td>fr.indeed.com</td>\n",
              "      <td>fr.indeed.com.gif</td>\n",
              "      <td>fr.indeed.com</td>\n",
              "    </tr>\n",
              "    <tr>\n",
              "      <th>2</th>\n",
              "      <td>2</td>\n",
              "      <td>www.estjob.com</td>\n",
              "      <td>www.estjob.com.gif</td>\n",
              "      <td>www.estjob.com</td>\n",
              "    </tr>\n",
              "    <tr>\n",
              "      <th>3</th>\n",
              "      <td>3</td>\n",
              "      <td>fr.indeed.com</td>\n",
              "      <td>fr.indeed.com.gif</td>\n",
              "      <td>fr.indeed.com</td>\n",
              "    </tr>\n",
              "    <tr>\n",
              "      <th>4</th>\n",
              "      <td>4</td>\n",
              "      <td>candidat.pole-emploi.fr</td>\n",
              "      <td>candidat.pole-emploi.fr.gif</td>\n",
              "      <td>candidat.pole-emploi.fr</td>\n",
              "    </tr>\n",
              "  </tbody>\n",
              "</table>\n",
              "</div>"
            ],
            "text/plain": [
              "   Unnamed: 0  ...                      dns\n",
              "0           0  ...  candidat.pole-emploi.fr\n",
              "1           1  ...            fr.indeed.com\n",
              "2           2  ...           www.estjob.com\n",
              "3           3  ...            fr.indeed.com\n",
              "4           4  ...  candidat.pole-emploi.fr\n",
              "\n",
              "[5 rows x 4 columns]"
            ]
          },
          "metadata": {},
          "execution_count": 84
        }
      ]
    },
    {
      "cell_type": "markdown",
      "metadata": {
        "id": "zx8kxuRcMTif"
      },
      "source": [
        "**Concatenation de l'ensemble des arrays numpy correspondant aux scores**"
      ]
    },
    {
      "cell_type": "code",
      "metadata": {
        "colab": {
          "base_uri": "https://localhost:8080/"
        },
        "id": "z3toaTUwoEs1",
        "outputId": "74054a46-641d-43f4-9dbe-e602b4ac2da0"
      },
      "source": [
        "# liste de tous les fichiers d'un dossier\n",
        "# import os\n",
        "from fnmatch import fnmatch\n",
        "root = '/content/drive/MyDrive/test'\n",
        "pattern = \"*rank*\"\n",
        "i=0\n",
        "liste = []\n",
        "for path, subdirs, files in os.walk(root):\n",
        "    for name in files:\n",
        "        if fnmatch(name, pattern):\n",
        "            liste.append(name)\n",
        "            i+=1\n",
        "liste"
      ],
      "execution_count": null,
      "outputs": [
        {
          "output_type": "execute_result",
          "data": {
            "text/plain": [
              "['+++++bloc2_rank.csv',\n",
              " '+++++page_rank.csv',\n",
              " '+++++bloc1_rank.csv',\n",
              " '+++++bloc3_rank.csv']"
            ]
          },
          "metadata": {},
          "execution_count": 7
        }
      ]
    },
    {
      "cell_type": "code",
      "metadata": {
        "id": "3-IjzvgVpaYR"
      },
      "source": [
        "total = pd.DataFrame()\n",
        "for e in liste:\n",
        "  temp = pd.read_csv(e)\n",
        "  total = pd.concat([total, temp], axis=0)\n",
        "total.drop(columns=['Unnamed: 0'], inplace=True)\n",
        "total = total.rename(dict(zip(total.columns, ['col1', 'col2'])))\n",
        "total.rename(columns={0:'col0'}, inplace=True)"
      ],
      "execution_count": null,
      "outputs": []
    },
    {
      "cell_type": "code",
      "metadata": {
        "colab": {
          "base_uri": "https://localhost:8080/",
          "height": 204
        },
        "id": "FSk1zUJzVsEL",
        "outputId": "1c9eef5a-32e2-43a4-d729-d1656280b634"
      },
      "source": [
        "total.sample(5)"
      ],
      "execution_count": null,
      "outputs": [
        {
          "output_type": "execute_result",
          "data": {
            "text/html": [
              "<div>\n",
              "<style scoped>\n",
              "    .dataframe tbody tr th:only-of-type {\n",
              "        vertical-align: middle;\n",
              "    }\n",
              "\n",
              "    .dataframe tbody tr th {\n",
              "        vertical-align: top;\n",
              "    }\n",
              "\n",
              "    .dataframe thead th {\n",
              "        text-align: right;\n",
              "    }\n",
              "</style>\n",
              "<table border=\"1\" class=\"dataframe\">\n",
              "  <thead>\n",
              "    <tr style=\"text-align: right;\">\n",
              "      <th></th>\n",
              "      <th>0</th>\n",
              "      <th>1</th>\n",
              "    </tr>\n",
              "  </thead>\n",
              "  <tbody>\n",
              "    <tr>\n",
              "      <th>238</th>\n",
              "      <td>www.manpower.fr</td>\n",
              "      <td>[[12 12 12 12 12 12 12 12 12 12 12 12 12 12 12...</td>\n",
              "    </tr>\n",
              "    <tr>\n",
              "      <th>189</th>\n",
              "      <td>www.nordjob.com</td>\n",
              "      <td>[[12 12 12 12 12 12 12 12 12 12 12 12 12 12 12...</td>\n",
              "    </tr>\n",
              "    <tr>\n",
              "      <th>903</th>\n",
              "      <td>www.jobijoba.com</td>\n",
              "      <td>[[12 12 12 12 12 12 12 12 12 12 12 12 12 12 12...</td>\n",
              "    </tr>\n",
              "    <tr>\n",
              "      <th>4850</th>\n",
              "      <td>www.leboncoin.fr</td>\n",
              "      <td>[[12 12 12 12 12 12 12 12 12 12 12 12 12 12 12...</td>\n",
              "    </tr>\n",
              "    <tr>\n",
              "      <th>2000</th>\n",
              "      <td>fr.indeed.com</td>\n",
              "      <td>[[14 14 14 14 14 14 14 14 14 14 14 14 14 14 14...</td>\n",
              "    </tr>\n",
              "  </tbody>\n",
              "</table>\n",
              "</div>"
            ],
            "text/plain": [
              "                     0                                                  1\n",
              "238    www.manpower.fr  [[12 12 12 12 12 12 12 12 12 12 12 12 12 12 12...\n",
              "189    www.nordjob.com  [[12 12 12 12 12 12 12 12 12 12 12 12 12 12 12...\n",
              "903   www.jobijoba.com  [[12 12 12 12 12 12 12 12 12 12 12 12 12 12 12...\n",
              "4850  www.leboncoin.fr  [[12 12 12 12 12 12 12 12 12 12 12 12 12 12 12...\n",
              "2000     fr.indeed.com  [[14 14 14 14 14 14 14 14 14 14 14 14 14 14 14..."
            ]
          },
          "metadata": {},
          "execution_count": 9
        }
      ]
    },
    {
      "cell_type": "markdown",
      "metadata": {
        "id": "FWT0XU1YM4EN"
      },
      "source": [
        "**Mise en place d'une table de correspondance tableau numpy versus page_rank score**"
      ]
    },
    {
      "cell_type": "code",
      "metadata": {
        "colab": {
          "base_uri": "https://localhost:8080/",
          "height": 358
        },
        "id": "gyNnBO6zp4be",
        "outputId": "b4dd78b0-ce6c-408e-8074-6bbf881c4339"
      },
      "source": [
        "matching = total.drop_duplicates(subset=['1'])\n",
        "matching"
      ],
      "execution_count": null,
      "outputs": [
        {
          "output_type": "execute_result",
          "data": {
            "text/html": [
              "<div>\n",
              "<style scoped>\n",
              "    .dataframe tbody tr th:only-of-type {\n",
              "        vertical-align: middle;\n",
              "    }\n",
              "\n",
              "    .dataframe tbody tr th {\n",
              "        vertical-align: top;\n",
              "    }\n",
              "\n",
              "    .dataframe thead th {\n",
              "        text-align: right;\n",
              "    }\n",
              "</style>\n",
              "<table border=\"1\" class=\"dataframe\">\n",
              "  <thead>\n",
              "    <tr style=\"text-align: right;\">\n",
              "      <th></th>\n",
              "      <th>0</th>\n",
              "      <th>1</th>\n",
              "    </tr>\n",
              "  </thead>\n",
              "  <tbody>\n",
              "    <tr>\n",
              "      <th>0</th>\n",
              "      <td>candidat.pole-emploi.fr</td>\n",
              "      <td>[[14 14 14 14 14 14 14 14 14 14 14 14 14 14 14...</td>\n",
              "    </tr>\n",
              "    <tr>\n",
              "      <th>1</th>\n",
              "      <td>fr.indeed.com</td>\n",
              "      <td>[[14 14 14 14 14 14 14 14 14 14 14 14 14 14 14...</td>\n",
              "    </tr>\n",
              "    <tr>\n",
              "      <th>2</th>\n",
              "      <td>www.estjob.com</td>\n",
              "      <td>[[12 12 12 12 12 12 12 12 12 12 12 12 12 12 12...</td>\n",
              "    </tr>\n",
              "    <tr>\n",
              "      <th>5</th>\n",
              "      <td>fr.linkedin.com</td>\n",
              "      <td>[[13 13 13 13 13 13 13 13 13 13 13 13 13 13 13...</td>\n",
              "    </tr>\n",
              "    <tr>\n",
              "      <th>13</th>\n",
              "      <td>www.crit-job.com</td>\n",
              "      <td>[[10 10 10 10 10 10 10 10 10 10 10 10 10 10 10...</td>\n",
              "    </tr>\n",
              "    <tr>\n",
              "      <th>14</th>\n",
              "      <td>www.glassdoor.fr</td>\n",
              "      <td>[[12 12 12 12 12 12 12 12 12 12 12 12 12 12 12...</td>\n",
              "    </tr>\n",
              "    <tr>\n",
              "      <th>26</th>\n",
              "      <td>www.lejobadequat.com</td>\n",
              "      <td>NaN</td>\n",
              "    </tr>\n",
              "    <tr>\n",
              "      <th>48</th>\n",
              "      <td>www.ouest-france.fr</td>\n",
              "      <td>[[12 12 12 12 12 12 12 12 12 12 12 12 12 12 12...</td>\n",
              "    </tr>\n",
              "    <tr>\n",
              "      <th>142</th>\n",
              "      <td>www.pmejob.fr</td>\n",
              "      <td>[[14 14 14 14 14 14 14 14 14 14 14 14 14 14 14...</td>\n",
              "    </tr>\n",
              "    <tr>\n",
              "      <th>268</th>\n",
              "      <td>www.eterritoire.fr</td>\n",
              "      <td>[[14 14 14 14 14 14 14 14 14 14 14 14 14 14 14...</td>\n",
              "    </tr>\n",
              "  </tbody>\n",
              "</table>\n",
              "</div>"
            ],
            "text/plain": [
              "                           0                                                  1\n",
              "0    candidat.pole-emploi.fr  [[14 14 14 14 14 14 14 14 14 14 14 14 14 14 14...\n",
              "1              fr.indeed.com  [[14 14 14 14 14 14 14 14 14 14 14 14 14 14 14...\n",
              "2             www.estjob.com  [[12 12 12 12 12 12 12 12 12 12 12 12 12 12 12...\n",
              "5            fr.linkedin.com  [[13 13 13 13 13 13 13 13 13 13 13 13 13 13 13...\n",
              "13          www.crit-job.com  [[10 10 10 10 10 10 10 10 10 10 10 10 10 10 10...\n",
              "14          www.glassdoor.fr  [[12 12 12 12 12 12 12 12 12 12 12 12 12 12 12...\n",
              "26      www.lejobadequat.com                                                NaN\n",
              "48       www.ouest-france.fr  [[12 12 12 12 12 12 12 12 12 12 12 12 12 12 12...\n",
              "142            www.pmejob.fr  [[14 14 14 14 14 14 14 14 14 14 14 14 14 14 14...\n",
              "268       www.eterritoire.fr  [[14 14 14 14 14 14 14 14 14 14 14 14 14 14 14..."
            ]
          },
          "metadata": {},
          "execution_count": 10
        }
      ]
    },
    {
      "cell_type": "code",
      "metadata": {
        "colab": {
          "base_uri": "https://localhost:8080/"
        },
        "id": "gojuQl_dNNTy",
        "outputId": "6fea3d7c-733b-4b35-9727-4286a551a6ce"
      },
      "source": [
        "matching['0'].values\n"
      ],
      "execution_count": null,
      "outputs": [
        {
          "output_type": "execute_result",
          "data": {
            "text/plain": [
              "array(['candidat.pole-emploi.fr', 'fr.indeed.com', 'www.estjob.com',\n",
              "       'fr.linkedin.com', 'www.crit-job.com', 'www.glassdoor.fr',\n",
              "       'www.lejobadequat.com', 'www.ouest-france.fr', 'www.pmejob.fr',\n",
              "       'www.eterritoire.fr'], dtype=object)"
            ]
          },
          "metadata": {},
          "execution_count": 66
        }
      ]
    },
    {
      "cell_type": "code",
      "metadata": {
        "colab": {
          "base_uri": "https://localhost:8080/",
          "height": 358
        },
        "id": "sIMMY2QzNXXx",
        "outputId": "cdb36544-712a-4118-df81-99f65681bb89"
      },
      "source": [
        "# Création de la table de correspondance\n",
        "corresp = pd.DataFrame.from_dict({\n",
        "    'candidat.pole-emploi.fr' :6,\n",
        "    'fr.indeed.com'           :8,\n",
        "    'www.estjob.com'          :5,\n",
        "    'fr.linkedin.com'         :9,\n",
        "    'www.crit-job.com'        :4,\n",
        "    'www.glassdoor.fr'        :1,\n",
        "    'www.lejobadequat.com'    :0,\n",
        "    'www.ouest-france.fr'     :7,\n",
        "    'www.pmejob.fr'           :3,\n",
        "    'www.eterritoire.fr'      :2\n",
        "                                }, orient='index').reset_index()\n",
        "\n",
        "page_rank = matching.merge(corresp, how='left', left_on='0', right_on='index').drop(columns=['0', 'index'])\n",
        "page_rank = page_rank.rename(columns={'1' : 'np_array', 0: 'score'})\n",
        "page_rank"
      ],
      "execution_count": null,
      "outputs": [
        {
          "output_type": "execute_result",
          "data": {
            "text/html": [
              "<div>\n",
              "<style scoped>\n",
              "    .dataframe tbody tr th:only-of-type {\n",
              "        vertical-align: middle;\n",
              "    }\n",
              "\n",
              "    .dataframe tbody tr th {\n",
              "        vertical-align: top;\n",
              "    }\n",
              "\n",
              "    .dataframe thead th {\n",
              "        text-align: right;\n",
              "    }\n",
              "</style>\n",
              "<table border=\"1\" class=\"dataframe\">\n",
              "  <thead>\n",
              "    <tr style=\"text-align: right;\">\n",
              "      <th></th>\n",
              "      <th>np_array</th>\n",
              "      <th>score</th>\n",
              "    </tr>\n",
              "  </thead>\n",
              "  <tbody>\n",
              "    <tr>\n",
              "      <th>0</th>\n",
              "      <td>[[14 14 14 14 14 14 14 14 14 14 14 14 14 14 14...</td>\n",
              "      <td>6</td>\n",
              "    </tr>\n",
              "    <tr>\n",
              "      <th>1</th>\n",
              "      <td>[[14 14 14 14 14 14 14 14 14 14 14 14 14 14 14...</td>\n",
              "      <td>8</td>\n",
              "    </tr>\n",
              "    <tr>\n",
              "      <th>2</th>\n",
              "      <td>[[12 12 12 12 12 12 12 12 12 12 12 12 12 12 12...</td>\n",
              "      <td>5</td>\n",
              "    </tr>\n",
              "    <tr>\n",
              "      <th>3</th>\n",
              "      <td>[[13 13 13 13 13 13 13 13 13 13 13 13 13 13 13...</td>\n",
              "      <td>9</td>\n",
              "    </tr>\n",
              "    <tr>\n",
              "      <th>4</th>\n",
              "      <td>[[10 10 10 10 10 10 10 10 10 10 10 10 10 10 10...</td>\n",
              "      <td>4</td>\n",
              "    </tr>\n",
              "    <tr>\n",
              "      <th>5</th>\n",
              "      <td>[[12 12 12 12 12 12 12 12 12 12 12 12 12 12 12...</td>\n",
              "      <td>1</td>\n",
              "    </tr>\n",
              "    <tr>\n",
              "      <th>6</th>\n",
              "      <td>NaN</td>\n",
              "      <td>0</td>\n",
              "    </tr>\n",
              "    <tr>\n",
              "      <th>7</th>\n",
              "      <td>[[12 12 12 12 12 12 12 12 12 12 12 12 12 12 12...</td>\n",
              "      <td>7</td>\n",
              "    </tr>\n",
              "    <tr>\n",
              "      <th>8</th>\n",
              "      <td>[[14 14 14 14 14 14 14 14 14 14 14 14 14 14 14...</td>\n",
              "      <td>3</td>\n",
              "    </tr>\n",
              "    <tr>\n",
              "      <th>9</th>\n",
              "      <td>[[14 14 14 14 14 14 14 14 14 14 14 14 14 14 14...</td>\n",
              "      <td>2</td>\n",
              "    </tr>\n",
              "  </tbody>\n",
              "</table>\n",
              "</div>"
            ],
            "text/plain": [
              "                                            np_array  score\n",
              "0  [[14 14 14 14 14 14 14 14 14 14 14 14 14 14 14...      6\n",
              "1  [[14 14 14 14 14 14 14 14 14 14 14 14 14 14 14...      8\n",
              "2  [[12 12 12 12 12 12 12 12 12 12 12 12 12 12 12...      5\n",
              "3  [[13 13 13 13 13 13 13 13 13 13 13 13 13 13 13...      9\n",
              "4  [[10 10 10 10 10 10 10 10 10 10 10 10 10 10 10...      4\n",
              "5  [[12 12 12 12 12 12 12 12 12 12 12 12 12 12 12...      1\n",
              "6                                                NaN      0\n",
              "7  [[12 12 12 12 12 12 12 12 12 12 12 12 12 12 12...      7\n",
              "8  [[14 14 14 14 14 14 14 14 14 14 14 14 14 14 14...      3\n",
              "9  [[14 14 14 14 14 14 14 14 14 14 14 14 14 14 14...      2"
            ]
          },
          "metadata": {},
          "execution_count": 12
        }
      ]
    },
    {
      "cell_type": "markdown",
      "metadata": {
        "id": "K_O-_eZANMi0"
      },
      "source": [
        "**Merge des dns et des tableaux numpy de score**"
      ]
    },
    {
      "cell_type": "code",
      "metadata": {
        "id": "p-tC2G0gbqVH"
      },
      "source": [
        "\n",
        "page_rank = total.merge(page_rank, left_on='1', right_on='np_array', how='left')\n",
        "page_rank = page_rank[['0', 'score']]\n",
        "page_rank.rename(columns={'0' : 'dns'}, inplace=True)\n"
      ],
      "execution_count": null,
      "outputs": []
    },
    {
      "cell_type": "code",
      "metadata": {
        "colab": {
          "base_uri": "https://localhost:8080/",
          "height": 36
        },
        "id": "bjS9Njgze9ov",
        "outputId": "c30f7db9-555e-4925-b58d-cb94f29e9e7f"
      },
      "source": [
        "os.getcwd()"
      ],
      "execution_count": null,
      "outputs": [
        {
          "output_type": "execute_result",
          "data": {
            "application/vnd.google.colaboratory.intrinsic+json": {
              "type": "string"
            },
            "text/plain": [
              "'/content/drive/.shortcut-targets-by-id/11_r9Tp2C6HqDG5QsBObNiqO23rMSOx-G/test'"
            ]
          },
          "metadata": {},
          "execution_count": 19
        }
      ]
    },
    {
      "cell_type": "code",
      "metadata": {
        "id": "cR1tL-zGfCT4"
      },
      "source": [
        "os.chdir(\"/content/drive/MyDrive/111_goldfinger/data_collection\")"
      ],
      "execution_count": null,
      "outputs": []
    },
    {
      "cell_type": "code",
      "metadata": {
        "id": "GnFlrGzlfizh"
      },
      "source": [
        "# !mkdir results"
      ],
      "execution_count": null,
      "outputs": []
    },
    {
      "cell_type": "code",
      "metadata": {
        "colab": {
          "base_uri": "https://localhost:8080/",
          "height": 358
        },
        "id": "lMcgLdakcQZr",
        "outputId": "5e431670-6caf-4f59-f40d-9bf735d2dccf"
      },
      "source": [
        "page_rank.to_csv('./results/page_rank_done.csv')\n",
        "page_rank.sample(10)"
      ],
      "execution_count": null,
      "outputs": [
        {
          "output_type": "execute_result",
          "data": {
            "text/html": [
              "<div>\n",
              "<style scoped>\n",
              "    .dataframe tbody tr th:only-of-type {\n",
              "        vertical-align: middle;\n",
              "    }\n",
              "\n",
              "    .dataframe tbody tr th {\n",
              "        vertical-align: top;\n",
              "    }\n",
              "\n",
              "    .dataframe thead th {\n",
              "        text-align: right;\n",
              "    }\n",
              "</style>\n",
              "<table border=\"1\" class=\"dataframe\">\n",
              "  <thead>\n",
              "    <tr style=\"text-align: right;\">\n",
              "      <th></th>\n",
              "      <th>dns</th>\n",
              "      <th>score</th>\n",
              "    </tr>\n",
              "  </thead>\n",
              "  <tbody>\n",
              "    <tr>\n",
              "      <th>5014</th>\n",
              "      <td>www.startpeople.fr</td>\n",
              "      <td>1</td>\n",
              "    </tr>\n",
              "    <tr>\n",
              "      <th>273</th>\n",
              "      <td>www.ouestjob.com</td>\n",
              "      <td>6</td>\n",
              "    </tr>\n",
              "    <tr>\n",
              "      <th>5250</th>\n",
              "      <td>candidat.pole-emploi.fr</td>\n",
              "      <td>6</td>\n",
              "    </tr>\n",
              "    <tr>\n",
              "      <th>883</th>\n",
              "      <td>fr.jooble.org</td>\n",
              "      <td>6</td>\n",
              "    </tr>\n",
              "    <tr>\n",
              "      <th>4566</th>\n",
              "      <td>www.meteojob.com</td>\n",
              "      <td>5</td>\n",
              "    </tr>\n",
              "    <tr>\n",
              "      <th>2011</th>\n",
              "      <td>www.meteojob.com</td>\n",
              "      <td>5</td>\n",
              "    </tr>\n",
              "    <tr>\n",
              "      <th>3465</th>\n",
              "      <td>www.regionsjob.com</td>\n",
              "      <td>6</td>\n",
              "    </tr>\n",
              "    <tr>\n",
              "      <th>1735</th>\n",
              "      <td>www.jobijoba.com</td>\n",
              "      <td>5</td>\n",
              "    </tr>\n",
              "    <tr>\n",
              "      <th>4299</th>\n",
              "      <td>www.meteojob.com</td>\n",
              "      <td>5</td>\n",
              "    </tr>\n",
              "    <tr>\n",
              "      <th>6198</th>\n",
              "      <td>www.manpower.fr</td>\n",
              "      <td>1</td>\n",
              "    </tr>\n",
              "  </tbody>\n",
              "</table>\n",
              "</div>"
            ],
            "text/plain": [
              "                          dns  score\n",
              "5014       www.startpeople.fr      1\n",
              "273          www.ouestjob.com      6\n",
              "5250  candidat.pole-emploi.fr      6\n",
              "883             fr.jooble.org      6\n",
              "4566         www.meteojob.com      5\n",
              "2011         www.meteojob.com      5\n",
              "3465       www.regionsjob.com      6\n",
              "1735         www.jobijoba.com      5\n",
              "4299         www.meteojob.com      5\n",
              "6198          www.manpower.fr      1"
            ]
          },
          "metadata": {},
          "execution_count": 31
        }
      ]
    },
    {
      "cell_type": "markdown",
      "metadata": {
        "id": "sqesQpPllVry"
      },
      "source": [
        "**Vérification de l'export des données**"
      ]
    },
    {
      "cell_type": "code",
      "metadata": {
        "colab": {
          "base_uri": "https://localhost:8080/"
        },
        "id": "N_h10dU_fzY9",
        "outputId": "db2a32b2-6416-4752-b335-c42299e17d91"
      },
      "source": [
        "from google.colab import drive\n",
        "drive.mount('/content/drive', force_remount=True)"
      ],
      "execution_count": null,
      "outputs": [
        {
          "output_type": "stream",
          "name": "stdout",
          "text": [
            "Mounted at /content/drive\n"
          ]
        }
      ]
    },
    {
      "cell_type": "code",
      "metadata": {
        "id": "0x4DIISKgTfz"
      },
      "source": [
        "os.chdir('./results')"
      ],
      "execution_count": null,
      "outputs": []
    },
    {
      "cell_type": "code",
      "metadata": {
        "colab": {
          "base_uri": "https://localhost:8080/"
        },
        "id": "VJY3rPB2gstN",
        "outputId": "4aed2192-d4f0-414d-d937-650d9c0c3f77"
      },
      "source": [
        "!ls"
      ],
      "execution_count": null,
      "outputs": [
        {
          "output_type": "stream",
          "name": "stdout",
          "text": [
            "page_rank_done.csv\n"
          ]
        }
      ]
    }
  ]
}